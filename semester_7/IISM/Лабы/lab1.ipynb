{
 "cells": [
  {
   "cell_type": "code",
   "execution_count": 1,
   "id": "initial_id",
   "metadata": {
    "ExecuteTime": {
     "end_time": "2024-09-13T13:33:33.857330Z",
     "start_time": "2024-09-13T13:33:33.850706Z"
    }
   },
   "outputs": [],
   "source": [
    "import matplotlib.pyplot as plt"
   ]
  },
  {
   "cell_type": "code",
   "execution_count": 2,
   "id": "c667a372b36d4cbd",
   "metadata": {
    "ExecuteTime": {
     "end_time": "2024-09-13T13:33:35.002171Z",
     "start_time": "2024-09-13T13:33:34.999214Z"
    },
    "collapsed": false,
    "jupyter": {
     "outputs_hidden": false
    }
   },
   "outputs": [],
   "source": [
    "class LCG:\n",
    "    seed = 32 \n",
    "    alpha = 1664525\n",
    "    c = 1013904223\n",
    "    m = 2 ** 32\n",
    "    x_n = seed\n",
    "    \n",
    "    @staticmethod\n",
    "    def random():\n",
    "        LCG.x_n = (LCG.alpha * LCG.x_n + LCG.c) % LCG.m\n",
    "        return LCG.x_n / LCG.m\n",
    "    "
   ]
  },
  {
   "cell_type": "code",
   "execution_count": 3,
   "id": "f2dc8f38fd8906c3",
   "metadata": {
    "ExecuteTime": {
     "end_time": "2024-09-13T13:33:35.429745Z",
     "start_time": "2024-09-13T13:33:35.425995Z"
    },
    "collapsed": false,
    "jupyter": {
     "outputs_hidden": false
    }
   },
   "outputs": [],
   "source": [
    "generator = LCG()\n",
    "number_samples = 10 ** 6"
   ]
  },
  {
   "cell_type": "markdown",
   "id": "76038eb424f6eda",
   "metadata": {
    "collapsed": false,
    "jupyter": {
     "outputs_hidden": false
    }
   },
   "source": [
    "### Task 1"
   ]
  },
  {
   "cell_type": "code",
   "execution_count": 4,
   "id": "373d69b351ca0ab0",
   "metadata": {
    "ExecuteTime": {
     "end_time": "2024-09-13T13:33:36.922267Z",
     "start_time": "2024-09-13T13:33:36.918757Z"
    },
    "collapsed": false,
    "jupyter": {
     "outputs_hidden": false
    }
   },
   "outputs": [],
   "source": [
    "def getGeneratorBool(p):\n",
    "    return generator.random() < p"
   ]
  },
  {
   "cell_type": "code",
   "execution_count": 5,
   "id": "55e46f91aacefa2",
   "metadata": {
    "ExecuteTime": {
     "end_time": "2024-09-13T13:33:37.429222Z",
     "start_time": "2024-09-13T13:33:37.425907Z"
    },
    "collapsed": false,
    "jupyter": {
     "outputs_hidden": false
    }
   },
   "outputs": [],
   "source": [
    "theory_p = 0.71"
   ]
  },
  {
   "cell_type": "code",
   "execution_count": 6,
   "id": "a360f86ecab3b97d",
   "metadata": {
    "ExecuteTime": {
     "end_time": "2024-09-13T13:33:38.207280Z",
     "start_time": "2024-09-13T13:33:37.937053Z"
    },
    "collapsed": false,
    "jupyter": {
     "outputs_hidden": false
    }
   },
   "outputs": [
    {
     "name": "stdout",
     "output_type": "stream",
     "text": [
      "0.709961\n",
      "0.29003900000000005\n"
     ]
    }
   ],
   "source": [
    "count_true = sum(1 for _ in range(number_samples) if getGeneratorBool(theory_p))\n",
    "count_false = number_samples - count_true\n",
    "practical_p = count_true / number_samples\n",
    "print(practical_p)\n",
    "print(1 - practical_p)"
   ]
  },
  {
   "cell_type": "code",
   "execution_count": 7,
   "id": "1da75c08ec0d580b",
   "metadata": {
    "ExecuteTime": {
     "end_time": "2024-09-13T13:33:38.926842Z",
     "start_time": "2024-09-13T13:33:38.878855Z"
    },
    "collapsed": false,
    "jupyter": {
     "outputs_hidden": false
    }
   },
   "outputs": [
    {
     "data": {
      "image/png": "[encoded data removed]",
      "text/plain": [
       "<Figure size 640x480 with 1 Axes>"
      ]
     },
     "metadata": {},
     "output_type": "display_data"
    }
   ],
   "source": [
    "labels = ['True', 'False']\n",
    "values = [count_true / number_samples, count_false / number_samples]\n",
    "\n",
    "plt.bar(labels, values, color='brown')\n",
    "plt.show()"
   ]
  },
  {
   "cell_type": "markdown",
   "id": "70095f9225887a5c",
   "metadata": {
    "collapsed": false,
    "jupyter": {
     "outputs_hidden": false
    }
   },
   "source": [
    "### Task 2"
   ]
  },
  {
   "cell_type": "code",
   "execution_count": 8,
   "id": "1098e5c313390eb0",
   "metadata": {
    "ExecuteTime": {
     "end_time": "2024-09-13T13:33:42.215726Z",
     "start_time": "2024-09-13T13:33:41.075705Z"
    },
    "collapsed": false,
    "jupyter": {
     "outputs_hidden": false
    }
   },
   "outputs": [
    {
     "name": "stdout",
     "output_type": "stream",
     "text": [
      "[[650290, 349710], [799370, 200630], [600269, 399731]]\n"
     ]
    }
   ],
   "source": [
    "def generator_complex(probabilities):\n",
    "    result = []\n",
    "    \n",
    "    for i in probabilities:\n",
    "        result.append(getGeneratorBool(i))\n",
    "\n",
    "    return result\n",
    "\n",
    "\n",
    "def task2(method_name, parameters):\n",
    "    for i in range(number_samples):\n",
    "        arr_result = method_name(parameters)\n",
    "        for j in range(len(arr_result)):\n",
    "            if arr_result[j]:\n",
    "                arr[j][0] += 1\n",
    "            else:\n",
    "                arr[j][1] += 1\n",
    "\n",
    "k_probabilities = [0.65,0.8, 0.6]\n",
    "arr = [[0 for j in range(2)] for i in range(len(k_probabilities))]\n",
    "\n",
    "task2(generator_complex, k_probabilities)\n",
    "print(arr)"
   ]
  },
  {
   "cell_type": "code",
   "execution_count": 9,
   "id": "38cb1bf117d290b4",
   "metadata": {
    "ExecuteTime": {
     "end_time": "2024-09-13T13:33:42.640244Z",
     "start_time": "2024-09-13T13:33:42.637673Z"
    },
    "collapsed": false,
    "jupyter": {
     "outputs_hidden": false
    }
   },
   "outputs": [
    {
     "name": "stdout",
     "output_type": "stream",
     "text": [
      "[0.65029, 0.79937, 0.600269]\n"
     ]
    }
   ],
   "source": [
    "practical_p = []\n",
    "for i in arr:\n",
    "    practical_p.append(i[0] / (i[0] + i[1]))\n",
    "print(practical_p)"
   ]
  },
  {
   "cell_type": "code",
   "execution_count": 10,
   "id": "ca25f3e2f02ea4a0",
   "metadata": {
    "ExecuteTime": {
     "end_time": "2024-09-13T13:33:43.347524Z",
     "start_time": "2024-09-13T13:33:43.297770Z"
    },
    "collapsed": false,
    "jupyter": {
     "outputs_hidden": false
    }
   },
   "outputs": [
    {
     "data": {
      "image/png": "[encoded data removed]",
      "text/plain": [
       "<Figure size 640x480 with 1 Axes>"
      ]
     },
     "metadata": {},
     "output_type": "display_data"
    }
   ],
   "source": [
    "x_labels = [f\"Event {i}\" for i in range(1, len(k_probabilities) + 1)]\n",
    "\n",
    "plt.bar([i for i in range(1, len(k_probabilities) + 1)], practical_p, color='brown')\n",
    "\n",
    "plt.xticks(ticks=range(1, len(k_probabilities) + 1), labels=x_labels)\n",
    "\n",
    "plt.show()"
   ]
  },
  {
   "cell_type": "markdown",
   "id": "50b7a03ee4be926",
   "metadata": {
    "collapsed": false,
    "jupyter": {
     "outputs_hidden": false
    }
   },
   "source": [
    "### Task 3\n",
    "\n",
    "$$ P(A \\cap B) = P(A) \\cdot P(B|A) $$\n",
    "$$ P(A' \\cap B) = (1 - P(A)) \\cdot P(B|A') $$\n",
    "$$ P(A \\cap B') = P(A) \\cdot (1 - P(B|A)) $$\n",
    "$$ P(A' \\cap B') = (1 - P(A)) \\cdot (1 - P(B|A')) $$"
   ]
  },
  {
   "cell_type": "code",
   "execution_count": 11,
   "id": "ac56700ea9e11f70",
   "metadata": {
    "ExecuteTime": {
     "end_time": "2024-09-13T13:33:46.466487Z",
     "start_time": "2024-09-13T13:33:45.871941Z"
    },
    "collapsed": false,
    "jupyter": {
     "outputs_hidden": false
    }
   },
   "outputs": [
    {
     "data": {
      "text/plain": [
       "[349926, 149677, 149415, 350982]"
      ]
     },
     "execution_count": 11,
     "metadata": {},
     "output_type": "execute_result"
    }
   ],
   "source": [
    "def generator_complex_dependent(a_probability, b_a_probability):\n",
    "    b_not_a_probability = 1 - b_a_probability\n",
    "    arr_ranges = []\n",
    "    arr_ranges.append(a_probability * b_a_probability)\n",
    "    arr_ranges.append((1 - a_probability) * b_not_a_probability +arr_ranges[0])\n",
    "    arr_ranges.append(a_probability * (1 - b_a_probability)+arr_ranges[1])\n",
    "    arr_ranges.append((1 - a_probability) * (1 - b_not_a_probability)+arr_ranges[2])\n",
    "    num = generator.random()\n",
    "   \n",
    "    for i in range(len(arr_ranges)):\n",
    "        if num <= arr_ranges[i]:\n",
    "            return i\n",
    "            \n",
    "def task3(method_name, param):\n",
    "    for i in range(number_samples):\n",
    "        num = method_name(param[0], param[1])\n",
    "        arr_result[num] += 1\n",
    "\n",
    "    return arr_result\n",
    "\n",
    "arr_result = [0 for i in range(4)]\n",
    "    \n",
    "task3(generator_complex_dependent, [0.5, 0.7])"
   ]
  },
  {
   "cell_type": "code",
   "execution_count": 12,
   "id": "4143c4f60f400c22",
   "metadata": {
    "ExecuteTime": {
     "end_time": "2024-09-13T13:33:47.028562Z",
     "start_time": "2024-09-13T13:33:47.025777Z"
    },
    "collapsed": false,
    "jupyter": {
     "outputs_hidden": false
    }
   },
   "outputs": [
    {
     "name": "stdout",
     "output_type": "stream",
     "text": [
      "[0.349926, 0.149677, 0.149415, 0.350982]\n"
     ]
    }
   ],
   "source": [
    "practical_p = [arr_result[i] / number_samples for i in range(4)]\n",
    "print(practical_p)"
   ]
  },
  {
   "cell_type": "code",
   "execution_count": 13,
   "id": "e1252b9178887829",
   "metadata": {
    "ExecuteTime": {
     "end_time": "2024-09-13T13:33:48.466073Z",
     "start_time": "2024-09-13T13:33:48.415282Z"
    },
    "collapsed": false,
    "jupyter": {
     "outputs_hidden": false
    }
   },
   "outputs": [
    {
     "data": {
      "image/png": "[encoded data removed]",
      "text/plain": [
       "<Figure size 640x480 with 1 Axes>"
      ]
     },
     "metadata": {},
     "output_type": "display_data"
    }
   ],
   "source": [
    "plt.bar([str(i) for i in range(4)],\n",
    "        [arr_result[i] / number_samples for i in range(4)], color='brown')\n",
    "plt.show()"
   ]
  },
  {
   "cell_type": "markdown",
   "id": "4f00f3261e10a890",
   "metadata": {
    "collapsed": false,
    "jupyter": {
     "outputs_hidden": false
    }
   },
   "source": [
    "### Task 4"
   ]
  },
  {
   "cell_type": "code",
   "execution_count": 14,
   "id": "35c4a1d594c6278d",
   "metadata": {
    "ExecuteTime": {
     "end_time": "2024-09-13T13:33:50.642678Z",
     "start_time": "2024-09-13T13:33:50.082934Z"
    },
    "collapsed": false,
    "jupyter": {
     "outputs_hidden": false
    }
   },
   "outputs": [],
   "source": [
    "def generator_full_group(probabilities):\n",
    "    arr_ranges = []\n",
    "    prev = 0\n",
    "    for i in probabilities:\n",
    "        prev += i\n",
    "        arr_ranges.append(prev)\n",
    "\n",
    "    num = generator.random()\n",
    "    \n",
    "    for i in range(len(arr_ranges)):\n",
    "        if num <= arr_ranges[i]:\n",
    "            return i\n",
    "\n",
    "\n",
    "def test_4(method_name, param):\n",
    "    arr_result = [0 for i in range(len(param))]\n",
    "    \n",
    "    for i in range(number_samples):\n",
    "        num = method_name(param)\n",
    "        arr_result[num] += 1\n",
    "\n",
    "    return arr_result\n",
    "        \n",
    "count = test_4(generator_full_group, [0.1, 0.2, 0.3, 0.4])"
   ]
  },
  {
   "cell_type": "code",
   "execution_count": 15,
   "id": "fd1e7ce98096ea93",
   "metadata": {
    "ExecuteTime": {
     "end_time": "2024-09-13T13:33:51.134364Z",
     "start_time": "2024-09-13T13:33:51.131801Z"
    },
    "collapsed": false,
    "jupyter": {
     "outputs_hidden": false
    }
   },
   "outputs": [
    {
     "name": "stdout",
     "output_type": "stream",
     "text": [
      "[0.099662, 0.299564, 0.200094, 0.40068]\n"
     ]
    }
   ],
   "source": [
    "practical_p = []\n",
    "for i in count:\n",
    "    practical_p.append(i / number_samples)\n",
    "print(practical_p)\n"
   ]
  },
  {
   "cell_type": "code",
   "execution_count": 16,
   "id": "13bc5c3aa78c7628",
   "metadata": {
    "ExecuteTime": {
     "end_time": "2024-09-13T13:33:51.734743Z",
     "start_time": "2024-09-13T13:33:51.685464Z"
    },
    "collapsed": false,
    "jupyter": {
     "outputs_hidden": false
    }
   },
   "outputs": [
    {
     "data": {
      "image/png": "[encoded data removed]",
      "text/plain": [
       "<Figure size 640x480 with 1 Axes>"
      ]
     },
     "metadata": {},
     "output_type": "display_data"
    }
   ],
   "source": [
    "plt.bar([str(i) for i in range(len(count))],\n",
    "        [count[i] / number_samples for i in range(len(count))], color='brown')\n",
    "plt.show()"
   ]
  },
  {
   "cell_type": "code",
   "execution_count": null,
   "id": "01d79793",
   "metadata": {},
   "outputs": [],
   "source": []
  }
 ],
 "metadata": {
  "kernelspec": {
   "display_name": "Python 3 (ipykernel)",
   "language": "python",
   "name": "python3"
  },
  "language_info": {
   "codemirror_mode": {
    "name": "ipython",
    "version": 3
   },
   "file_extension": ".py",
   "mimetype": "text/x-python",
   "name": "python",
   "nbconvert_exporter": "python",
   "pygments_lexer": "ipython3",
   "version": "3.10.4"
  }
 },
 "nbformat": 4,
 "nbformat_minor": 5
}
