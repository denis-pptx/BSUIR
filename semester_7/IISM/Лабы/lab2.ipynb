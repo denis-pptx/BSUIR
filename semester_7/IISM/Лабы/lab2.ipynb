{
 "cells": [
  {
   "cell_type": "code",
   "execution_count": 1,
   "id": "abfe100e-4ae5-491f-859b-c67d6866143e",
   "metadata": {
    "ExecuteTime": {
     "end_time": "2024-09-21T08:37:46.387390Z",
     "start_time": "2024-09-21T08:37:46.378716Z"
    }
   },
   "outputs": [],
   "source": [
    "import random\n",
    "import sympy as sp\n",
    "import numpy as np\n",
    "import matplotlib.pyplot as plt\n",
    "from scipy.stats import chi\n",
    "import math\n",
    "from scipy import stats\n",
    "\n",
    "n = 10_000 # размер выборки\n",
    "z = 1.96  # квантиль для доверительного интервала 95%"
   ]
  },
  {
   "cell_type": "code",
   "execution_count": 2,
   "id": "d3c57a9cb6e7c955",
   "metadata": {
    "ExecuteTime": {
     "end_time": "2024-09-21T08:37:46.680243Z",
     "start_time": "2024-09-21T08:37:46.677361Z"
    },
    "collapsed": false,
    "jupyter": {
     "outputs_hidden": false
    }
   },
   "outputs": [],
   "source": [
    "# практическое МО (ср. арифм.)\n",
    "def MX_practical(sample):\n",
    "    return sum(sample) / len(sample)"
   ]
  },
  {
   "cell_type": "code",
   "execution_count": 3,
   "id": "a733b5ba45474176",
   "metadata": {
    "ExecuteTime": {
     "end_time": "2024-09-21T08:37:46.979991Z",
     "start_time": "2024-09-21T08:37:46.977441Z"
    },
    "collapsed": false,
    "jupyter": {
     "outputs_hidden": false
    }
   },
   "outputs": [],
   "source": [
    "# практическая Дисперсия\n",
    "# с поправкой (n-1, а не n) на смещение возникающее при использовании выборочного среднего вместо истинного среднего ГС\n",
    "def DX_practical(sample):\n",
    "    mx = MX_practical(sample)\n",
    "    return sum((x_i - mx) ** 2 for x_i in sample) / (len(sample) - 1)"
   ]
  },
  {
   "cell_type": "code",
   "execution_count": 4,
   "id": "bfd3fc6b26959a63",
   "metadata": {
    "ExecuteTime": {
     "end_time": "2024-09-21T08:37:48.225514Z",
     "start_time": "2024-09-21T08:37:48.219999Z"
    },
    "collapsed": false,
    "jupyter": {
     "outputs_hidden": false
    }
   },
   "outputs": [],
   "source": [
    "def MX_theory(f):\n",
    "    x = sp.symbols('x')\n",
    "    return sp.integrate(x * f, (x, 0, 1))"
   ]
  },
  {
   "cell_type": "code",
   "execution_count": 5,
   "id": "e7225e20-10a4-4380-b5c3-b12f8dc3cedf",
   "metadata": {
    "ExecuteTime": {
     "end_time": "2024-09-21T08:37:48.393476Z",
     "start_time": "2024-09-21T08:37:48.388884Z"
    }
   },
   "outputs": [],
   "source": [
    "def DX_theory(f):\n",
    "    x = sp.symbols('x')\n",
    "    return float(sp.integrate(x ** 2 * f, (x, 0, 1))) - MX_theory(f) ** 2"
   ]
  },
  {
   "cell_type": "code",
   "execution_count": 6,
   "id": "58b0e4c567a7ef72",
   "metadata": {
    "ExecuteTime": {
     "end_time": "2024-09-21T08:37:47.273335Z",
     "start_time": "2024-09-21T08:37:47.270919Z"
    },
    "collapsed": false,
    "jupyter": {
     "outputs_hidden": false
    }
   },
   "outputs": [],
   "source": [
    "def CI_MX(sample):\n",
    "    mx = MX_practical(sample)\n",
    "    dx = DX_practical(sample)\n",
    "    delta = z * np.sqrt(dx) / np.sqrt(n)\n",
    "    \n",
    "    return mx - delta, mx + delta"
   ]
  },
  {
   "cell_type": "code",
   "execution_count": 7,
   "id": "cb894443-ab7e-43a3-bfe8-97a1556a3274",
   "metadata": {
    "ExecuteTime": {
     "end_time": "2024-09-21T08:37:47.747165Z",
     "start_time": "2024-09-21T08:37:47.745373Z"
    }
   },
   "outputs": [],
   "source": [
    "def CI_DX(sample, confidence_level):\n",
    "    dx_practical = DX_practical(sample)\n",
    "    \n",
    "    alpha1 = 1 - confidence_level / 2\n",
    "    alpha2 = confidence_level / 2\n",
    "    \n",
    "    chi1 = chi.ppf(alpha1, n - 1)\n",
    "    chi2 = chi.ppf(alpha2, n - 1)\n",
    "    \n",
    "    return (n - 1) * dx_practical / (chi1 ** 2), (n - 1) * dx_practical / (chi2 ** 2)\n"
   ]
  },
  {
   "cell_type": "code",
   "execution_count": 8,
   "id": "27f0afa5573441fa",
   "metadata": {
    "ExecuteTime": {
     "end_time": "2024-09-21T08:37:48.076830Z",
     "start_time": "2024-09-21T08:37:48.072025Z"
    },
    "collapsed": false,
    "jupyter": {
     "outputs_hidden": false
    }
   },
   "outputs": [],
   "source": [
    "def generate_numbers(f, y):\n",
    "    result = []\n",
    "    for i in range(n):\n",
    "        number = random.random()\n",
    "        result.append(float(f.subs(y, number)))\n",
    "    return result\n"
   ]
  },
  {
   "cell_type": "code",
   "execution_count": 9,
   "id": "950e8c23-afa6-4974-a52c-4a094a0fa232",
   "metadata": {
    "ExecuteTime": {
     "end_time": "2024-09-21T08:37:49.052641Z",
     "start_time": "2024-09-21T08:37:49.046257Z"
    }
   },
   "outputs": [],
   "source": [
    "def solve():\n",
    "    x, y = sp.symbols('x,y')\n",
    "    \n",
    "    f = x ** 2\n",
    "    rev_f = sp.solve(sp.Eq(y, f), x)[0]\n",
    "   \n",
    "    sample = generate_numbers(rev_f, y)\n",
    "    \n",
    "    df = sp.diff(f, x)\n",
    "\n",
    "    mx_theory = MX_theory(df)\n",
    "    dx_theory = DX_theory(df)\n",
    "    \n",
    "    mx_practical = MX_practical(sample)\n",
    "    dx_practical = DX_practical(sample)\n",
    "    \n",
    "    ci_mx = CI_MX(sample)\n",
    "    ci_dx = CI_DX(sample, 0.95)\n",
    "\t  \n",
    "    statistic, p_value = stats.kstest(sample, lambda x: x)\n",
    "\n",
    "    if p_value < 0.05:\n",
    "        print(\"Rejected\")\n",
    "\n",
    "    plt.hist(sample, bins=50, color='brown')\n",
    "    plt.xlabel(\"values\")\n",
    "    plt.ylabel(\"frequency\")\n",
    "    plt.show()\n",
    "    \n",
    "    print(f\"{'Metric':<25} {'Value':<30}\")\n",
    "    print(\"=\" * 48)\n",
    "\n",
    "\t# Print the values in a formatted table\n",
    "    print(f\"{'MX_theory':<25} {mx_theory:.8f} \")\n",
    "    print(f\"{'MX_practical':<25} {mx_practical:.8f} \")\n",
    "    print(f\"{'CI_MX':<25} ({float(ci_mx[0]):.8f}, {float(ci_mx[1]):.8f})\")\n",
    "    print(f\"{'DX_theory':<25} {dx_theory:.8f} \")\n",
    "    print(f\"{'DX_practical':<25} {dx_practical:.8f} \")\n",
    "    print(f\"{'CI_DX':<25} ({float(ci_dx[0]):.8f}, {float(ci_dx[1]):.8f})\")\n"
   ]
  },
  {
   "cell_type": "code",
   "execution_count": 10,
   "id": "332bc0cc-a1d1-4203-82ca-61842c1a4809",
   "metadata": {
    "ExecuteTime": {
     "end_time": "2024-09-21T08:37:50.199914Z",
     "start_time": "2024-09-21T08:37:49.151120Z"
    }
   },
   "outputs": [
    {
     "name": "stdout",
     "output_type": "stream",
     "text": [
      "-sqrt(y)\n",
      "Rejected\n"
     ]
    },
    {
     "data": {
      "image/png": "[encoded data removed]",
      "text/plain": [
       "<Figure size 640x480 with 1 Axes>"
      ]
     },
     "metadata": {},
     "output_type": "display_data"
    },
    {
     "name": "stdout",
     "output_type": "stream",
     "text": [
      "Metric                    Value                         \n",
      "================================================\n",
      "MX_theory                 0.66666667 \n",
      "MX_practical              -0.66859382 \n",
      "CI_MX                     (-0.67318961, -0.66399802)\n",
      "DX_theory                 0.05555556 \n",
      "DX_practical              0.05498057 \n",
      "CI_DX                     (0.05493551, 0.05503303)\n"
     ]
    }
   ],
   "source": [
    "solve()"
   ]
  },
  {
   "cell_type": "code",
   "execution_count": 11,
   "id": "7ae234c67f8146ea",
   "metadata": {
    "ExecuteTime": {
     "end_time": "2024-09-21T08:37:50.204528Z",
     "start_time": "2024-09-21T08:37:50.200616Z"
    },
    "collapsed": false,
    "jupyter": {
     "outputs_hidden": false
    }
   },
   "outputs": [],
   "source": [
    "def MX_pascal(x, p):\n",
    "    return x * (1 - p) / p"
   ]
  },
  {
   "cell_type": "code",
   "execution_count": 12,
   "id": "75928eeddbfd22e5",
   "metadata": {
    "ExecuteTime": {
     "end_time": "2024-09-21T08:37:50.208981Z",
     "start_time": "2024-09-21T08:37:50.203319Z"
    },
    "collapsed": false,
    "jupyter": {
     "outputs_hidden": false
    }
   },
   "outputs": [],
   "source": [
    "def DX_pascal(x, p):\n",
    "    return x * (1 - p) / (p ** 2)"
   ]
  },
  {
   "cell_type": "code",
   "execution_count": 13,
   "id": "ef43d7b7-01b0-429c-826f-9d90840c5c23",
   "metadata": {
    "ExecuteTime": {
     "end_time": "2024-09-21T08:37:50.538884Z",
     "start_time": "2024-09-21T08:37:50.536028Z"
    }
   },
   "outputs": [],
   "source": [
    "def negative_binomal(r, p, size):\n",
    "    samples = []\n",
    "    for _ in range(size):\n",
    "        successes = 0\n",
    "        failures = 0\n",
    "        while successes < r:\n",
    "            if np.random.rand() < p:\n",
    "                successes += 1\n",
    "            else:\n",
    "                failures += 1\n",
    "        samples.append(failures)\n",
    "    \n",
    "    return np.array(samples)"
   ]
  },
  {
   "cell_type": "code",
   "execution_count": 14,
   "id": "d8af45de",
   "metadata": {},
   "outputs": [],
   "source": [
    "from scipy.stats import chisquare, nbinom\n",
    "\n",
    "def check_pascal_distribution(sample, r, p, alpha=0.05):\n",
    "    \n",
    "    # Максимальное количество неудач в выборке\n",
    "    max_value = np.max(sample)\n",
    "    \n",
    "    # Частоты появления каждого значения в выборке\n",
    "    observed_freq, bin_edges = np.histogram(sample, bins=range(max_value + 2), density=False)\n",
    "    \n",
    "    # Теоретические вероятности распределения Паскаля (отрицательного биномиального)\n",
    "    x_values = np.arange(0, max_value + 1)\n",
    "    expected_prob = nbinom.pmf(x_values, r, p)\n",
    "    \n",
    "    # Теоретические частоты\n",
    "    expected_freq = expected_prob * len(sample)\n",
    "    \n",
    "    # Нормализация частот\n",
    "    observed_freq = observed_freq / np.sum(observed_freq)\n",
    "    expected_freq = expected_freq / np.sum(expected_freq)\n",
    "\n",
    "    # Приводим частоты к одинаковому масштабу\n",
    "    observed_freq *= len(sample)\n",
    "    expected_freq *= len(sample)\n",
    "\n",
    "    # Удаляем нулевые теоретические частоты (для которых вероятность ≈ 0)\n",
    "    non_zero_mask = expected_freq > 0\n",
    "    observed_freq = observed_freq[non_zero_mask]\n",
    "    expected_freq = expected_freq[non_zero_mask]\n",
    "    \n",
    "    # Применяем критерий χ²\n",
    "    chi2_stat, p_value = chisquare(f_obs=observed_freq, f_exp=expected_freq)\n",
    "    \n",
    "    # Проверка гипотезы\n",
    "    if p_value > alpha:\n",
    "        return True\n",
    "    else:\n",
    "        return False"
   ]
  },
  {
   "cell_type": "code",
   "execution_count": 15,
   "id": "6166878b-9a65-4857-8aaa-60cc0c023f9c",
   "metadata": {
    "ExecuteTime": {
     "end_time": "2024-09-21T08:37:50.785126Z",
     "start_time": "2024-09-21T08:37:50.782522Z"
    }
   },
   "outputs": [],
   "source": [
    "from scipy.stats import nbinom\n",
    "\n",
    "def solve(n, p, x):\n",
    "    # Расчет практ. негативного биномиального распределения\n",
    "    neg_bin_practical = negative_binomal(x, p, n)\n",
    "    \n",
    "    # Расчет теорет. негативного биномиального распределения\n",
    "    neg_bin_theory = nbinom.rvs(x, p, size=n)\n",
    "    \n",
    "    mx_theory = MX_pascal(x, p)\n",
    "    dx_theory = DX_pascal(x, p)\n",
    "    \n",
    "    mx_practical = MX_practical(neg_bin_practical)\n",
    "    dx_practical = DX_practical(neg_bin_practical)\n",
    "    \n",
    "    # Интервальные оценки\n",
    "    ci_mx = CI_MX(neg_bin_practical)\n",
    "    ci_dx = CI_DX(neg_bin_practical, 0.95)\n",
    "    \n",
    "    res = check_pascal_distribution(neg_bin_theory, x, p)\n",
    "    \n",
    "    if res == False:\n",
    "        print('Rejected')\n",
    "    \n",
    "    plt.hist(neg_bin_practical, bins=range(min(neg_bin_practical), max(neg_bin_practical)), color='brown', edgecolor='black', density=True)\n",
    "    plt.xlabel('Количество неудач')\n",
    "    plt.ylabel('Вероятность')\n",
    "    \n",
    "    plt.show()\n",
    "    \n",
    "    print(f\"{'Metric':<25} {'Value':<30}\")\n",
    "    print(\"=\" * 48)\n",
    "\n",
    "\t# Print the values in a formatted table\n",
    "    print(f\"{'MX_theory':<25} {mx_theory:.8f} \")\n",
    "    print(f\"{'MX_practical':<25} {mx_practical:.8f} \")\n",
    "    print(f\"{'CI_MX':<25} ({float(ci_mx[0]):.8f}, {float(ci_mx[1]):.8f})\")\n",
    "    print(f\"{'DX_theory':<25} {dx_theory:.8f} \")\n",
    "    print(f\"{'DX_practical':<25} {dx_practical:.8f} \")\n",
    "    print(f\"{'CI_DX':<25} ({float(ci_dx[0]):.8f}, {float(ci_dx[1]):.8f})\")\n"
   ]
  },
  {
   "cell_type": "code",
   "execution_count": 16,
   "id": "9ace17f7-5b36-49e8-8a8c-f3c1849ea6f9",
   "metadata": {
    "ExecuteTime": {
     "end_time": "2024-09-21T08:37:56.270488Z",
     "start_time": "2024-09-21T08:37:50.983265Z"
    }
   },
   "outputs": [
    {
     "data": {
      "image/png": "[encoded data removed]",
      "text/plain": [
       "<Figure size 640x480 with 1 Axes>"
      ]
     },
     "metadata": {},
     "output_type": "display_data"
    },
    {
     "name": "stdout",
     "output_type": "stream",
     "text": [
      "Metric                    Value                         \n",
      "================================================\n",
      "MX_theory                 7.00000000 \n",
      "MX_practical              7.00082000 \n",
      "CI_MX                     (6.92760793, 7.07403207)\n",
      "DX_theory                 14.00000000 \n",
      "DX_practical              13.95253928 \n",
      "CI_DX                     (13.94110190, 13.96585192)\n"
     ]
    }
   ],
   "source": [
    "solve(1000000, 0.5, 7)"
   ]
  },
  {
   "cell_type": "code",
   "execution_count": null,
   "id": "8c8515c3d74b7506",
   "metadata": {
    "collapsed": false,
    "jupyter": {
     "outputs_hidden": false
    }
   },
   "outputs": [],
   "source": []
  },
  {
   "cell_type": "code",
   "execution_count": null,
   "id": "df407070",
   "metadata": {},
   "outputs": [],
   "source": []
  }
 ],
 "metadata": {
  "kernelspec": {
   "display_name": "Python 3 (ipykernel)",
   "language": "python",
   "name": "python3"
  },
  "language_info": {
   "codemirror_mode": {
    "name": "ipython",
    "version": 3
   },
   "file_extension": ".py",
   "mimetype": "text/x-python",
   "name": "python",
   "nbconvert_exporter": "python",
   "pygments_lexer": "ipython3",
   "version": "3.10.4"
  }
 },
 "nbformat": 4,
 "nbformat_minor": 5
}
